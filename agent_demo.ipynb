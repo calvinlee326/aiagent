{
  "cells": [
    {
      "cell_type": "code",
      "execution_count": null,
      "metadata": {},
      "outputs": [],
      "source": [
        "import os, json, requests\n",
        "from dotenv import load_dotenv\n",
        "from openai import OpenAI\n",
        "from pydantic import BaseModel, Field\n",
        "\n",
        "load_dotenv()\n",
        "client = OpenAI(api_key=os.getenv(\"OPENAI_API_KEY\"))\n",
        "print(\"client_ready=\", bool(client))\n"
      ]
    },
    {
      "cell_type": "code",
      "execution_count": null,
      "metadata": {},
      "outputs": [],
      "source": [
        "# Define tool and messages\n",
        "\n",
        "def get_weather(latitude: float, longitude: float):\n",
        "    response = requests.get(\n",
        "        f\"https://api.open-meteo.com/v1/forecast?latitude={latitude}&longitude={longitude}&current=temperature_2m,wind_speed_10m&hourly=temperature_2m,relative_humidity_2m,wind_speed_10m\"\n",
        "    )\n",
        "    return response.json()[\"current\"]\n",
        "\n",
        "tools = [\n",
        "    {\n",
        "        \"type\": \"function\",\n",
        "        \"function\": {\n",
        "            \"name\": \"get_weather\",\n",
        "            \"description\": \"Get current temperature for provided coordinates in celsius.\",\n",
        "            \"parameters\": {\n",
        "                \"type\": \"object\",\n",
        "                \"properties\": {\n",
        "                    \"latitude\": {\"type\": \"number\"},\n",
        "                    \"longitude\": {\"type\": \"number\"},\n",
        "                },\n",
        "                \"required\": [\"latitude\", \"longitude\"],\n",
        "                \"additionalProperties\": False,\n",
        "            },\n",
        "            \"strict\": True,\n",
        "        },\n",
        "    }\n",
        "]\n",
        "\n",
        "system_prompt = \"You are a helpful weather assistant.\"\n",
        "messages = [\n",
        "    {\"role\": \"system\", \"content\": system_prompt},\n",
        "    {\"role\": \"user\", \"content\": \"What's the weather like in Paris today?\"},\n",
        "]\n"
      ]
    },
    {
      "cell_type": "code",
      "execution_count": null,
      "metadata": {},
      "outputs": [],
      "source": [
        "# Step 1: Call model with tool and inspect message + tool_call ids\n",
        "from IPython.display import display, JSON\n",
        "\n",
        "completion = client.chat.completions.create(\n",
        "    model=\"gpt-4o\",\n",
        "    messages=messages,\n",
        "    tools=tools,\n",
        ")\n",
        "\n",
        "print(\"response_id:\", completion.id)\n",
        "assistant_msg = completion.choices[0].message\n",
        "\n",
        "display(JSON(assistant_msg.model_dump(), expanded=False))\n",
        "\n",
        "tool_calls = assistant_msg.tool_calls or []\n",
        "messages.append(assistant_msg)\n",
        "print(\"num_tool_calls:\", len(tool_calls))\n"
      ]
    },
    {
      "cell_type": "code",
      "execution_count": null,
      "metadata": {},
      "outputs": [],
      "source": [
        "# Step 2: Execute tool(s) and show each call's id\n",
        "from IPython.display import display, JSON\n",
        "\n",
        "results = []\n",
        "for tc in tool_calls:\n",
        "    name = tc.function.name\n",
        "    args = json.loads(tc.function.arguments)\n",
        "    if name == \"get_weather\":\n",
        "        result = get_weather(**args)\n",
        "    else:\n",
        "        result = {\"error\": f\"unknown function {name}\"}\n",
        "    results.append({\"id\": tc.id, \"name\": name, \"args\": args, \"result\": result})\n",
        "    messages.append({\"role\": \"tool\", \"tool_call_id\": tc.id, \"content\": json.dumps(result)})\n",
        "\n",
        "display(JSON(results, expanded=False))\n"
      ]
    },
    {
      "cell_type": "code",
      "execution_count": null,
      "metadata": {},
      "outputs": [],
      "source": [
        "# Step 3: Structured output parse and display\n",
        "class WeatherResponse(BaseModel):\n",
        "    temperature: float = Field(description=\"The current temperature in celsius for the given location.\")\n",
        "    response: str = Field(description=\"A natural language response to the user's question.\")\n",
        "\n",
        "completion_2 = client.beta.chat.completions.parse(\n",
        "    model=\"gpt-4o\",\n",
        "    messages=messages,\n",
        "    tools=tools,\n",
        "    response_format=WeatherResponse,\n",
        ")\n",
        "\n",
        "final_response = completion_2.choices[0].message.parsed\n",
        "print({\n",
        "    \"temperature\": final_response.temperature,\n",
        "    \"response\": final_response.response,\n",
        "})\n"
      ]
    }
  ],
  "metadata": {
    "language_info": {
      "name": "python"
    }
  },
  "nbformat": 4,
  "nbformat_minor": 2
}
